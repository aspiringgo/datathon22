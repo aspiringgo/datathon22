{
 "cells": [
  {
   "cell_type": "code",
   "execution_count": 188,
   "id": "7ea639ff-9f3b-4d88-a227-be0a4417d9a9",
   "metadata": {},
   "outputs": [
    {
     "data": {
      "text/plain": [
       "0.0    2393\n",
       "1.0     581\n",
       "Name: label, dtype: int64"
      ]
     },
     "execution_count": 188,
     "metadata": {},
     "output_type": "execute_result"
    }
   ],
   "source": [
    "import numpy as np # linear algebra\n",
    "import pandas as pd # data processing, CSV file I/O (e.g. pd.read_csv)\n",
    "import sklearn\n",
    "from sklearn import preprocessing\n",
    "from sklearn.model_selection import train_test_split\n",
    "raw_data = pd.read_csv('data.csv')\n",
    "\n",
    "raw_df = pd.DataFrame({\n",
    "    \"gender\": raw_data.gender,\n",
    "    \"race\": raw_data.race,\n",
    "    \"age\": raw_data.age,  \n",
    "    \"atrial_fibrillation\": raw_data.atrial_fibrillation,\n",
    "    \"ischemic_stroke\": raw_data.ischemic_stroke, \n",
    "    \"trsnsient_ischemic_attack\": raw_data.trsnsient_ischemic_attack,\n",
    "    \"peripheral_arterial_occusive\": raw_data.peripheral_arterial_occusive, \n",
    "    \"myocardial_infarction\": raw_data.myocardial_infarction,\n",
    "    \"congestive_heart_failure\": raw_data.congestive_heart_failure,\n",
    "    \"hypertension\": raw_data.hypertension,\n",
    "    \"diabates_mellitus\": raw_data.diabates_mellitus,\n",
    "    \"hyperlipidemia\": raw_data.hyperlipidemia,\n",
    "    \"aspirin\": raw_data.aspirin,\n",
    "    #\"warfarin\":raw_data.warfarin,\n",
    "    \"bb\": raw_data.bb,\n",
    "    \"heartrate_max\": raw_data.heartrate_max,\n",
    "    \"sbp_min\": raw_data.sbp_min,\n",
    "    #\"map_min\": raw_data.map_min,\n",
    "    \"base_excess_val\": raw_data.base_excess_val,\n",
    "    \"ph_val\": raw_data.ph_val,\n",
    "    \"hemoglobin_val\": raw_data.hemoglobin_val,\n",
    "    \"lactate_val\": raw_data.lactate_val,\n",
    "    \"pt_val\": raw_data.pt_val,\n",
    "    \"ptt_val\": raw_data.ptt_val,\n",
    "    \"inr_val\": raw_data.inr_val,\n",
    "    \"urea_nitrogen_val\": raw_data.urea_nitrogen_val,\n",
    "    \"creatinine_val\": raw_data.creatinine_val,\n",
    "    \"platelet_count_val\": raw_data.platelet_count_val,\n",
    "    \"bilirubin_val\": raw_data.bilirubin_val,\n",
    "    \"albumin_val\": raw_data.albumin_val,\n",
    "    \"bun\": raw_data.bun,\n",
    "    \"label\": raw_data.trans\n",
    "})\n",
    "# change the race and gender into values\n",
    "raw_df['gender'] = raw_df['gender'].replace(['F'], 1)\n",
    "raw_df['gender'] = raw_df['gender'].replace(['M'], 0)\n",
    "raw_df['race'] = raw_df['race'].replace(['WHITE'], 1)\n",
    "raw_df['race'] = raw_df['race'].replace(['BLACK/AFRICAN AMERICAN', 'HISPANIC/LATINO - DOMINICAN',\n",
    "       'WHITE - OTHER EUROPEAN', 'OTHER', 'ASIAN','UNKNOWN'],0)\n",
    "raw_df['race'] = raw_df['race'].replace(['ASIAN - CHINESE', 'BLACK/CARIBBEAN ISLAND', 'BLACK/CAPE VERDEAN',\n",
    "       'ASIAN - SOUTH EAST ASIAN', 'HISPANIC/LATINO - PUERTO RICAN',\n",
    "       'WHITE - RUSSIAN', 'WHITE - EASTERN EUROPEAN'],0)\n",
    "raw_df['race'] = raw_df['race'].replace(['PATIENT DECLINED TO ANSWER', 'MULTIPLE RACE/ETHNICITY',\n",
    "       'HISPANIC/LATINO - HONDURAN', 'UNABLE TO OBTAIN', 'PORTUGUESE',\n",
    "       'HISPANIC/LATINO - COLUMBIAN', 'HISPANIC OR LATINO'],0)\n",
    "raw_df['race'] = raw_df['race'].replace(['AMERICAN INDIAN/ALASKA NATIVE', 'BLACK/AFRICAN',\n",
    "       'WHITE - BRAZILIAN', 'HISPANIC/LATINO - GUATEMALAN',\n",
    "       'HISPANIC/LATINO - SALVADORAN', 'HISPANIC/LATINO - MEXICAN',\n",
    "       'SOUTH AMERICAN'],0)\n",
    "raw_df['race'] = raw_df['race'].replace(['NATIVE HAWAIIAN OR OTHER PACIFIC ISLANDER',\n",
    "       'ASIAN - ASIAN INDIAN', 'ASIAN - KOREAN'],0)\n",
    "raw_df['gender']=raw_df['gender'].astype(float)\n",
    "raw_df['race']=raw_df['race'].astype(float)\n",
    "raw_df\n",
    "# data pre-processing\n",
    "all_features = list(raw_df)\n",
    "target = ['label']\n",
    "features = list(set(all_features)-set(target))\n",
    "# raw_df.features = DataScaler(raw_df.features)\n",
    "# raw_df[:,features] = DataScaler(raw_df[:,features])\n",
    "\n",
    "# fill the binary missing values\n",
    "raw_df['atrial_fibrillation'] = raw_df['atrial_fibrillation'].fillna(0)\n",
    "raw_df['ischemic_stroke'] = raw_df['ischemic_stroke'].fillna(0)\n",
    "raw_df['trsnsient_ischemic_attack'] = raw_df['trsnsient_ischemic_attack'].fillna(0)\n",
    "raw_df['peripheral_arterial_occusive'] = raw_df['peripheral_arterial_occusive'].fillna(0)\n",
    "raw_df['myocardial_infarction'] = raw_df['myocardial_infarction'].fillna(0)\n",
    "raw_df['congestive_heart_failure'] = raw_df['congestive_heart_failure'].fillna(0)\n",
    "raw_df['hypertension'] = raw_df['hypertension'].fillna(0)\n",
    "raw_df['diabates_mellitus'] = raw_df['diabates_mellitus'].fillna(0)\n",
    "raw_df['hyperlipidemia'] = raw_df['hyperlipidemia'].fillna(0)\n",
    "raw_df['aspirin'] = raw_df['aspirin'].fillna(0)\n",
    "#raw_df['warfarin'] = raw_df['warfarin'].fillna(0)\n",
    "raw_df['bb'] = raw_df['bb'].fillna(0)\n",
    "\n",
    "raw_df\n",
    "# raw_df(raw_df.info())\n",
    "# Impute with mean imputation\n",
    "\n",
    "from sklearn.impute import SimpleImputer\n",
    "df = raw_df.copy()\n",
    "mean_imputer = SimpleImputer(strategy='mean')\n",
    "df['heartrate_max'] = mean_imputer.fit_transform(df['heartrate_max'].values.reshape(-1,1))\n",
    "#df['map_min'] = mean_imputer.fit_transform(df['map_min'].values.reshape(-1,1))\n",
    "df['base_excess_val'] = mean_imputer.fit_transform(df['base_excess_val'].values.reshape(-1,1))\n",
    "df['ph_val'] = mean_imputer.fit_transform(df['ph_val'].values.reshape(-1,1))\n",
    "df['hemoglobin_val'] = mean_imputer.fit_transform(df['hemoglobin_val'].values.reshape(-1,1))\n",
    "df['lactate_val'] = mean_imputer.fit_transform(df['lactate_val'].values.reshape(-1,1))\n",
    "df['pt_val'] = mean_imputer.fit_transform(df['pt_val'].values.reshape(-1,1))\n",
    "df['ptt_val'] = mean_imputer.fit_transform(df['ptt_val'].values.reshape(-1,1))\n",
    "df['inr_val'] = mean_imputer.fit_transform(df['inr_val'].values.reshape(-1,1))\n",
    "df['urea_nitrogen_val'] = mean_imputer.fit_transform(df['urea_nitrogen_val'].values.reshape(-1,1))\n",
    "df['creatinine_val'] = mean_imputer.fit_transform(df['creatinine_val'].values.reshape(-1,1))\n",
    "df['platelet_count_val'] = mean_imputer.fit_transform(df['platelet_count_val'].values.reshape(-1,1))\n",
    "df['bilirubin_val'] = mean_imputer.fit_transform(df['bilirubin_val'].values.reshape(-1,1))\n",
    "df['albumin_val'] = mean_imputer.fit_transform(df['albumin_val'].values.reshape(-1,1))\n",
    "df\n",
    "# reduce the dtype\n",
    "df = df.astype('float32')\n",
    "# varice need transfusion\n",
    "df[\"label\"].value_counts()"
   ]
  },
  {
   "cell_type": "code",
   "execution_count": 189,
   "id": "2b6861da-9099-47ac-923d-46bfc4b96951",
   "metadata": {},
   "outputs": [
    {
     "data": {
      "text/plain": [
       "1499    0.0\n",
       "1076    0.0\n",
       "2053    0.0\n",
       "2266    0.0\n",
       "997     0.0\n",
       "       ... \n",
       "2123    0.0\n",
       "806     0.0\n",
       "2009    0.0\n",
       "1341    0.0\n",
       "1210    0.0\n",
       "Name: label, Length: 744, dtype: float32"
      ]
     },
     "execution_count": 189,
     "metadata": {},
     "output_type": "execute_result"
    }
   ],
   "source": [
    "from sklearn.model_selection import train_test_split\n",
    "y = df.loc[:,'label']\n",
    "X = df.drop('label', axis=1)\n",
    "X_train, X_test, y_train, y_test = train_test_split(X, y, stratify=y, shuffle=True, random_state=2)\n",
    "y_test"
   ]
  },
  {
   "cell_type": "code",
   "execution_count": 190,
   "id": "af7d2e45-415c-4661-a80f-402f580d5fcf",
   "metadata": {},
   "outputs": [
    {
     "data": {
      "text/plain": [
       "XGBClassifier(base_score=0.9, booster='gbtree', callbacks=None,\n",
       "              colsample_bylevel=1, colsample_bynode=1, colsample_bytree=1,\n",
       "              early_stopping_rounds=None, enable_categorical=False,\n",
       "              eval_metric=None, gamma=0, gpu_id=-1, grow_policy='depthwise',\n",
       "              importance_type=None, interaction_constraints='',\n",
       "              learning_rate=0.02, max_bin=256, max_cat_to_onehot=4,\n",
       "              max_delta_step=0, max_depth='20', max_leaves=10,\n",
       "              min_child_weight=1, missing=nan, monotone_constraints='()',\n",
       "              n_estimators=100, n_jobs=2, nthread=2, num_parallel_tree=1,\n",
       "              predictor='auto', random_state=500, reg_alpha=0, ...)"
      ]
     },
     "execution_count": 190,
     "metadata": {},
     "output_type": "execute_result"
    }
   ],
   "source": [
    "from xgboost import XGBClassifier\n",
    "\n",
    "model = XGBClassifier(\n",
    "    objective='binary:logistic',\n",
    "    max_depth='20',\n",
    "    learning_rate=0.02,\n",
    "    max_leaves=10,\n",
    "    base_score=0.9,\n",
    "    seed=500,\n",
    "    subsample=0.8,\n",
    "    nthread=2\n",
    ")\n",
    "\n",
    "model.fit(X_train, y_train)"
   ]
  },
  {
   "cell_type": "code",
   "execution_count": 191,
   "id": "8a44493d-5ead-41c6-b040-ff57ea616ab1",
   "metadata": {},
   "outputs": [
    {
     "data": {
      "text/plain": [
       "0.8306451612903226"
      ]
     },
     "execution_count": 191,
     "metadata": {},
     "output_type": "execute_result"
    }
   ],
   "source": [
    "import matplotlib.pyplot as plt\n",
    "from sklearn.metrics import accuracy_score\n",
    "y_pred=model.predict(X_test)\n",
    "score=accuracy_score(y_pred,y_test)\n",
    "score"
   ]
  },
  {
   "cell_type": "code",
   "execution_count": 192,
   "id": "a3c914e3-4085-4f5b-b06c-46de34a21ad2",
   "metadata": {},
   "outputs": [],
   "source": [
    "from sklearn.metrics import roc_curve\n",
    "y_pred_proba=model.predict_proba(X_test)\n",
    "y_pred_proba[:,1] #想看输血分类为1的概率\n",
    "fpr,tpr,thres=roc_curve(y_test,y_pred_proba[:,1])"
   ]
  },
  {
   "cell_type": "code",
   "execution_count": 193,
   "id": "cf5953f1-2a8c-4b4e-b095-e7c8d92c4b6d",
   "metadata": {},
   "outputs": [
    {
     "data": {
      "text/plain": [
       "0.8646019227448045"
      ]
     },
     "execution_count": 193,
     "metadata": {},
     "output_type": "execute_result"
    }
   ],
   "source": [
    "from sklearn.metrics import roc_auc_score\n",
    "\n",
    "roc_auc_score(y_test,y_pred_proba[:,1])"
   ]
  },
  {
   "cell_type": "code",
   "execution_count": 194,
   "id": "33be842f-c415-4cae-b285-23fafed375c6",
   "metadata": {},
   "outputs": [
    {
     "data": {
      "image/png": "[encoded data removed]",
      "text/plain": [
       "<Figure size 500x500 with 1 Axes>"
      ]
     },
     "metadata": {},
     "output_type": "display_data"
    }
   ],
   "source": [
    "import matplotlib.pyplot as plt\n",
    "plt.style.use('tableau-colorblind10')\n",
    "plt.figure(figsize = (5,5))\n",
    "plt.xlim(-0.05,1.05)\n",
    "plt.ylim(-0.05,1.05)\n",
    "plt.title('AUROC of XGBoost for varice data')\n",
    "plt.plot(fpr,tpr,c = '#003D7C',ls='-',lw = 1,  ms = 8, mec='r',mew=3,mfc='y',alpha =1)\n",
    "plt.show()"
   ]
  },
  {
   "cell_type": "code",
   "execution_count": 195,
   "id": "c5a47038-8cb2-4d4b-8612-bf6617bd12d6",
   "metadata": {},
   "outputs": [
    {
     "data": {
      "text/plain": [
       "Text(46.25, 0.5, 'True')"
      ]
     },
     "execution_count": 195,
     "metadata": {},
     "output_type": "execute_result"
    },
    {
     "data": {
      "image/png": "[encoded data removed]",
      "text/plain": [
       "<Figure size 640x480 with 2 Axes>"
      ]
     },
     "metadata": {},
     "output_type": "display_data"
    }
   ],
   "source": [
    "import seaborn as sn\n",
    "from sklearn.metrics import confusion_matrix\n",
    "import matplotlib.pyplot as plt\n",
    "\n",
    "sn.set()\n",
    "f,ax=plt.subplots()\n",
    "C2= confusion_matrix(y_test, y_pred, labels=[0, 1])\n",
    "sn.heatmap(C2,annot=True,ax=ax, cmap=\"BuPu\") #画热力图\n",
    "ax.set_title('confusion matrix for varice data')\n",
    "ax.set_xlabel('Predict')\n",
    "ax.set_ylabel('True')"
   ]
  },
  {
   "cell_type": "code",
   "execution_count": 196,
   "id": "bc56d076-c7cc-46fb-9f63-15200f1a23b6",
   "metadata": {},
   "outputs": [
    {
     "data": {
      "text/plain": [
       "array([0.        , 0.00689655, 0.07586207, 0.07586207, 0.10344828,\n",
       "       0.10344828, 0.11034483, 0.11034483, 0.11724138, 0.11724138,\n",
       "       0.26206897, 0.26206897, 0.26896552, 0.26896552, 0.27586207,\n",
       "       0.27586207, 0.28275862, 0.28275862, 0.29655172, 0.29655172,\n",
       "       0.31724138, 0.31724138, 0.32413793, 0.32413793, 0.34482759,\n",
       "       0.34482759, 0.35172414, 0.35172414, 0.35862069, 0.35862069,\n",
       "       0.36551724, 0.36551724, 0.37241379, 0.37241379, 0.37931034,\n",
       "       0.37931034, 0.40689655, 0.40689655, 0.43448276, 0.43448276,\n",
       "       0.44137931, 0.44137931, 0.46896552, 0.46896552, 0.48275862,\n",
       "       0.48275862, 0.51034483, 0.51034483, 0.51724138, 0.51724138,\n",
       "       0.52413793, 0.52413793, 0.53103448, 0.53103448, 0.53793103,\n",
       "       0.53793103, 0.55172414, 0.55172414, 0.55862069, 0.55862069,\n",
       "       0.57931034, 0.57931034, 0.59310345, 0.59310345, 0.6       ,\n",
       "       0.6       , 0.60689655, 0.60689655, 0.63448276, 0.63448276,\n",
       "       0.64137931, 0.64137931, 0.65517241, 0.65517241, 0.66206897,\n",
       "       0.66206897, 0.66896552, 0.66896552, 0.67586207, 0.67586207,\n",
       "       0.68275862, 0.68275862, 0.68965517, 0.68965517, 0.71034483,\n",
       "       0.71034483, 0.71724138, 0.71724138, 0.72413793, 0.72413793,\n",
       "       0.73103448, 0.73103448, 0.74482759, 0.74482759, 0.75862069,\n",
       "       0.75862069, 0.76551724, 0.76551724, 0.77241379, 0.77241379,\n",
       "       0.77931034, 0.77931034, 0.7862069 , 0.7862069 , 0.79310345,\n",
       "       0.79310345, 0.80689655, 0.80689655, 0.8137931 , 0.8137931 ,\n",
       "       0.82068966, 0.82068966, 0.82758621, 0.82758621, 0.83448276,\n",
       "       0.83448276, 0.84137931, 0.84137931, 0.84827586, 0.84827586,\n",
       "       0.86206897, 0.86206897, 0.86896552, 0.86896552, 0.87586207,\n",
       "       0.87586207, 0.88275862, 0.88275862, 0.88965517, 0.88965517,\n",
       "       0.89655172, 0.89655172, 0.91034483, 0.91034483, 0.91724138,\n",
       "       0.91724138, 0.92413793, 0.92413793, 0.93103448, 0.93103448,\n",
       "       0.93793103, 0.93793103, 0.94482759, 0.94482759, 0.95172414,\n",
       "       0.95172414, 0.95862069, 0.95862069, 0.96551724, 0.96551724,\n",
       "       0.97241379, 0.97241379, 0.97931034, 0.97931034, 0.9862069 ,\n",
       "       0.9862069 , 0.99310345, 0.99310345, 1.        , 1.        ,\n",
       "       1.        , 1.        , 1.        , 1.        , 1.        ,\n",
       "       1.        , 1.        , 1.        , 1.        , 1.        ,\n",
       "       1.        , 1.        , 1.        ])"
      ]
     },
     "execution_count": 196,
     "metadata": {},
     "output_type": "execute_result"
    }
   ],
   "source": [
    "tpr"
   ]
  },
  {
   "cell_type": "code",
   "execution_count": 197,
   "id": "d7bf4d50-7850-4179-b210-8bb72bb4c037",
   "metadata": {},
   "outputs": [
    {
     "data": {
      "text/plain": [
       "array([1.9332225 , 0.9332226 , 0.8698786 , 0.85457444, 0.83641803,\n",
       "       0.83014387, 0.8291939 , 0.8248573 , 0.82152516, 0.8134816 ,\n",
       "       0.7695612 , 0.75677603, 0.7532939 , 0.75035685, 0.74601394,\n",
       "       0.7377522 , 0.73703295, 0.73644465, 0.73538953, 0.7301276 ,\n",
       "       0.72007394, 0.7130046 , 0.7125071 , 0.7096017 , 0.70101094,\n",
       "       0.68292004, 0.6792207 , 0.67832905, 0.6756973 , 0.6646478 ,\n",
       "       0.6589571 , 0.6325557 , 0.63178486, 0.63127536, 0.63119376,\n",
       "       0.62374586, 0.6119888 , 0.602797  , 0.59055364, 0.5770257 ,\n",
       "       0.5763889 , 0.57599336, 0.5639011 , 0.5544018 , 0.552307  ,\n",
       "       0.54396546, 0.53088045, 0.5275426 , 0.52708995, 0.52702624,\n",
       "       0.5255706 , 0.5235224 , 0.5227478 , 0.51303643, 0.512958  ,\n",
       "       0.5063009 , 0.50414556, 0.50265706, 0.5018238 , 0.48654962,\n",
       "       0.47724974, 0.473715  , 0.46744072, 0.46307975, 0.4605181 ,\n",
       "       0.4564002 , 0.45440063, 0.45246467, 0.43848196, 0.4323563 ,\n",
       "       0.43201864, 0.42497703, 0.42321068, 0.4059744 , 0.40579167,\n",
       "       0.4015498 , 0.39999494, 0.39632714, 0.39556986, 0.3908844 ,\n",
       "       0.3901857 , 0.38850018, 0.38810405, 0.3846721 , 0.38180628,\n",
       "       0.3703969 , 0.3681525 , 0.36031336, 0.3550442 , 0.3292377 ,\n",
       "       0.32611933, 0.3245202 , 0.32337376, 0.31359372, 0.3133134 ,\n",
       "       0.3105871 , 0.3102774 , 0.30712247, 0.30684015, 0.30490917,\n",
       "       0.3048529 , 0.2944353 , 0.2939708 , 0.28783187, 0.28640187,\n",
       "       0.28026578, 0.27873766, 0.2755724 , 0.27506393, 0.27235156,\n",
       "       0.27087334, 0.26585025, 0.26345038, 0.2613984 , 0.26047006,\n",
       "       0.2593221 , 0.25853437, 0.2519845 , 0.2514945 , 0.25032336,\n",
       "       0.24975696, 0.24783462, 0.24597646, 0.24162975, 0.24033889,\n",
       "       0.23258503, 0.23228846, 0.23227598, 0.23214701, 0.23020302,\n",
       "       0.23015575, 0.21734257, 0.21662126, 0.21638967, 0.21637653,\n",
       "       0.21600083, 0.2157111 , 0.21373188, 0.21325664, 0.20814553,\n",
       "       0.20745124, 0.2065765 , 0.20601793, 0.20369472, 0.20266983,\n",
       "       0.20102733, 0.19998701, 0.18686275, 0.18665466, 0.17846408,\n",
       "       0.1779974 , 0.17466772, 0.17421056, 0.16961618, 0.16944401,\n",
       "       0.14659426, 0.14587775, 0.14261056, 0.14219287, 0.13199733,\n",
       "       0.13195834, 0.13111795, 0.13105525, 0.13080598, 0.13080043,\n",
       "       0.13077244, 0.13074607, 0.13043033, 0.13042225, 0.13037455,\n",
       "       0.1301022 , 0.13009182, 0.13004808], dtype=float32)"
      ]
     },
     "execution_count": 197,
     "metadata": {},
     "output_type": "execute_result"
    }
   ],
   "source": [
    "thres"
   ]
  },
  {
   "cell_type": "code",
   "execution_count": 198,
   "id": "3b72a041-f335-431d-8514-9ea3d69b4f9f",
   "metadata": {},
   "outputs": [],
   "source": [
    "y_threshold = 1.53886926e-04"
   ]
  },
  {
   "cell_type": "code",
   "execution_count": 199,
   "id": "a87e50ab-855d-47b9-9ecb-aee376dfed08",
   "metadata": {},
   "outputs": [],
   "source": [
    "y_pred_proba=model.predict_proba(X_test)"
   ]
  },
  {
   "cell_type": "code",
   "execution_count": 200,
   "id": "a6c9d2e1-0e7f-4825-b46d-6396d4bab35a",
   "metadata": {},
   "outputs": [],
   "source": [
    "y_pred_thres = (y_pred_proba[:,1]>=y_threshold).astype(int)"
   ]
  },
  {
   "cell_type": "code",
   "execution_count": 201,
   "id": "8ab7d7c5-ff3b-4c0f-aad4-9e685cb7c2fc",
   "metadata": {},
   "outputs": [
    {
     "data": {
      "text/plain": [
       "array([[537,  62],\n",
       "       [ 64,  81]])"
      ]
     },
     "execution_count": 201,
     "metadata": {},
     "output_type": "execute_result"
    }
   ],
   "source": [
    "C2"
   ]
  },
  {
   "cell_type": "code",
   "execution_count": 202,
   "id": "f887ecb9-9eef-46d5-a53b-07707b1e5a69",
   "metadata": {},
   "outputs": [
    {
     "data": {
      "text/plain": [
       "Index(['gender', 'race', 'age', 'atrial_fibrillation', 'ischemic_stroke',\n",
       "       'trsnsient_ischemic_attack', 'peripheral_arterial_occusive',\n",
       "       'myocardial_infarction', 'congestive_heart_failure', 'hypertension',\n",
       "       'diabates_mellitus', 'hyperlipidemia', 'aspirin', 'bb', 'heartrate_max',\n",
       "       'sbp_min', 'base_excess_val', 'ph_val', 'hemoglobin_val', 'lactate_val',\n",
       "       'pt_val', 'ptt_val', 'inr_val', 'urea_nitrogen_val', 'creatinine_val',\n",
       "       'platelet_count_val', 'bilirubin_val', 'albumin_val', 'bun', 'label'],\n",
       "      dtype='object')"
      ]
     },
     "execution_count": 202,
     "metadata": {},
     "output_type": "execute_result"
    }
   ],
   "source": [
    "df.columns"
   ]
  },
  {
   "cell_type": "code",
   "execution_count": 203,
   "id": "032264f1-3790-4f96-85b1-4afe6b9de1fc",
   "metadata": {},
   "outputs": [],
   "source": [
    "feature_list = ['gender', 'race', 'age', 'atrial_fibrillation',\n",
    "       'ischemic_stroke', 'trsnsient_ischemic_attack',\n",
    "       'peripheral_arterial_occusive', 'myocardial_infarction',\n",
    "       'congestive_heart_failure', 'hypertension', 'diabates_mellitus',\n",
    "       'hyperlipidemia', 'aspirin', 'warfarin', 'bb', 'heartrate_max',\n",
    "       'map_min', 'base_excess_val', 'ph_val', 'hemoglobin_val', 'lactate_val',\n",
    "       'pt_val', 'ptt_val', 'inr_val', 'urea_nitrogen_val', 'creatinine_val',\n",
    "       'platelet_count_val', 'bilirubin_val', 'albumin_val', 'varice']"
   ]
  },
  {
   "cell_type": "code",
   "execution_count": 204,
   "id": "a85e3387-36d2-4fb6-b94e-289447223b66",
   "metadata": {},
   "outputs": [
    {
     "name": "stdout",
     "output_type": "stream",
     "text": [
      "Variable: base_excess_val      Importance: 0.10000000149011612\n",
      "Variable: map_min              Importance: 0.09000000357627869\n",
      "Variable: ischemic_stroke      Importance: 0.05999999865889549\n",
      "Variable: bilirubin_val        Importance: 0.05999999865889549\n",
      "Variable: albumin_val          Importance: 0.05999999865889549\n",
      "Variable: ph_val               Importance: 0.05000000074505806\n",
      "Variable: hemoglobin_val       Importance: 0.05000000074505806\n",
      "Variable: ptt_val              Importance: 0.03999999910593033\n",
      "Variable: gender               Importance: 0.029999999329447746\n",
      "Variable: age                  Importance: 0.029999999329447746\n",
      "Variable: peripheral_arterial_occusive Importance: 0.029999999329447746\n",
      "Variable: congestive_heart_failure Importance: 0.029999999329447746\n",
      "Variable: hypertension         Importance: 0.029999999329447746\n",
      "Variable: diabates_mellitus    Importance: 0.029999999329447746\n",
      "Variable: hyperlipidemia       Importance: 0.029999999329447746\n",
      "Variable: bb                   Importance: 0.029999999329447746\n",
      "Variable: heartrate_max        Importance: 0.029999999329447746\n",
      "Variable: lactate_val          Importance: 0.029999999329447746\n",
      "Variable: pt_val               Importance: 0.029999999329447746\n",
      "Variable: inr_val              Importance: 0.029999999329447746\n",
      "Variable: urea_nitrogen_val    Importance: 0.029999999329447746\n",
      "Variable: creatinine_val       Importance: 0.029999999329447746\n",
      "Variable: platelet_count_val   Importance: 0.029999999329447746\n",
      "Variable: atrial_fibrillation  Importance: 0.019999999552965164\n",
      "Variable: myocardial_infarction Importance: 0.019999999552965164\n",
      "Variable: aspirin              Importance: 0.009999999776482582\n",
      "Variable: race                 Importance: 0.0\n",
      "Variable: trsnsient_ischemic_attack Importance: 0.0\n",
      "Variable: warfarin             Importance: 0.0\n"
     ]
    }
   ],
   "source": [
    "importances = list(model.feature_importances_)\n",
    "\n",
    "# Dictionaries with variable and importance\n",
    "feature_importances = {feature:round(importance, 2) for feature, importance in zip(feature_list, importances)}\n",
    "\n",
    "# Sort the feature importances in decreasing order\n",
    "feature_importances = sorted(feature_importances.items(), key = lambda x: x[1], reverse = True)\n",
    "\n",
    "# Print out the feature and importances \n",
    "[print('Variable: {:20} Importance: {}'.format(*pair)) for pair in feature_importances];"
   ]
  },
  {
   "cell_type": "code",
   "execution_count": 205,
   "id": "4930f77f-67dc-4e26-89e4-fcb551b97c63",
   "metadata": {},
   "outputs": [
    {
     "data": {
      "image/png": "[encoded data removed]",
      "text/plain": [
       "<Figure size 640x480 with 1 Axes>"
      ]
     },
     "metadata": {},
     "output_type": "display_data"
    }
   ],
   "source": [
    "plt.style.use('ggplot')\n",
    "\n",
    "top = 10\n",
    "# the x axis for the plot \n",
    "x_axis = [i for i in range(top)]\n",
    "plot_importance = feature_importances[:top]\n",
    "\n",
    "# Creat a bar plot \n",
    "plt.bar(x_axis, [i[1] for i in plot_importance], orientation = 'vertical')\n",
    "# Define xtick labels \n",
    "plt.xticks(x_axis, [i[0] for i in plot_importance], rotation='vertical')\n",
    "# Define axis labels and titles\n",
    "plt.ylabel('Importance'); plt.xlabel('Variable'); plt.title('Variable Importances');"
   ]
  },
  {
   "cell_type": "code",
   "execution_count": null,
   "id": "98d20715-ca59-40f2-9c56-2df34b772170",
   "metadata": {},
   "outputs": [],
   "source": []
  },
  {
   "cell_type": "code",
   "execution_count": null,
   "id": "8d17022e-8c8c-4af8-9e80-23bbc3b2d74f",
   "metadata": {},
   "outputs": [],
   "source": []
  },
  {
   "cell_type": "code",
   "execution_count": null,
   "id": "1db603f9-005b-43d8-89f8-25fe9a67f3a1",
   "metadata": {},
   "outputs": [],
   "source": []
  },
  {
   "cell_type": "code",
   "execution_count": null,
   "id": "edcfcc20-a15b-4b87-8bd5-21a1d243f5ae",
   "metadata": {},
   "outputs": [],
   "source": []
  },
  {
   "cell_type": "code",
   "execution_count": null,
   "id": "e8c0ff7a-228e-43db-a555-3995b9906f38",
   "metadata": {},
   "outputs": [],
   "source": []
  }
 ],
 "metadata": {
  "kernelspec": {
   "display_name": "Python 3 (ipykernel)",
   "language": "python",
   "name": "python3"
  },
  "language_info": {
   "codemirror_mode": {
    "name": "ipython",
    "version": 3
   },
   "file_extension": ".py",
   "mimetype": "text/x-python",
   "name": "python",
   "nbconvert_exporter": "python",
   "pygments_lexer": "ipython3",
   "version": "3.7.15"
  }
 },
 "nbformat": 4,
 "nbformat_minor": 5
}
