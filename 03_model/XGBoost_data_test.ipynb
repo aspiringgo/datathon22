{
 "cells": [
  {
   "cell_type": "code",
   "execution_count": 2,
   "id": "afb5d583",
   "metadata": {},
   "outputs": [],
   "source": [
    "from xgboost import XGBClassifier\n",
    "import numpy as np\n",
    "import pandas as pd"
   ]
  },
  {
   "cell_type": "code",
   "execution_count": 6,
   "id": "6ae2144e",
   "metadata": {},
   "outputs": [],
   "source": [
    "df=pd.read_excel('data.xlsx')"
   ]
  },
  {
   "cell_type": "code",
   "execution_count": 8,
   "id": "2e5913c5",
   "metadata": {},
   "outputs": [
    {
     "data": {
      "text/html": [
       "<div>\n",
       "<style scoped>\n",
       "    .dataframe tbody tr th:only-of-type {\n",
       "        vertical-align: middle;\n",
       "    }\n",
       "\n",
       "    .dataframe tbody tr th {\n",
       "        vertical-align: top;\n",
       "    }\n",
       "\n",
       "    .dataframe thead th {\n",
       "        text-align: right;\n",
       "    }\n",
       "</style>\n",
       "<table border=\"1\" class=\"dataframe\">\n",
       "  <thead>\n",
       "    <tr style=\"text-align: right;\">\n",
       "      <th></th>\n",
       "      <th>subject_id</th>\n",
       "      <th>stay_id</th>\n",
       "      <th>charttime</th>\n",
       "      <th>temperature</th>\n",
       "      <th>heartrate</th>\n",
       "      <th>resprate</th>\n",
       "      <th>o2sat</th>\n",
       "      <th>sbp</th>\n",
       "      <th>dbp</th>\n",
       "      <th>pain-min</th>\n",
       "      <th>...</th>\n",
       "      <th>trans_time</th>\n",
       "      <th>trans</th>\n",
       "      <th>charttimeBP</th>\n",
       "      <th>heartrate.1</th>\n",
       "      <th>sbp.1</th>\n",
       "      <th>dbp.1</th>\n",
       "      <th>Map</th>\n",
       "      <th>Dying</th>\n",
       "      <th>Medicine</th>\n",
       "      <th>Medication</th>\n",
       "    </tr>\n",
       "  </thead>\n",
       "  <tbody>\n",
       "    <tr>\n",
       "      <th>0</th>\n",
       "      <td>10003019</td>\n",
       "      <td>36204964</td>\n",
       "      <td>2120-05-26 22:05:00</td>\n",
       "      <td>98.5</td>\n",
       "      <td>68.0</td>\n",
       "      <td>20.0</td>\n",
       "      <td>98.0</td>\n",
       "      <td>110.0</td>\n",
       "      <td>42.0</td>\n",
       "      <td>0</td>\n",
       "      <td>...</td>\n",
       "      <td>2175-06-26 05:59:00</td>\n",
       "      <td>1</td>\n",
       "      <td>2175-06-25 12:54:00</td>\n",
       "      <td>67.0</td>\n",
       "      <td>134</td>\n",
       "      <td>51</td>\n",
       "      <td>78.666667</td>\n",
       "      <td>0</td>\n",
       "      <td>0</td>\n",
       "      <td>0</td>\n",
       "    </tr>\n",
       "    <tr>\n",
       "      <th>1</th>\n",
       "      <td>10003019</td>\n",
       "      <td>34378664</td>\n",
       "      <td>2127-09-07 11:33:00</td>\n",
       "      <td>99.9</td>\n",
       "      <td>80.0</td>\n",
       "      <td>16.0</td>\n",
       "      <td>95.0</td>\n",
       "      <td>173.0</td>\n",
       "      <td>80.0</td>\n",
       "      <td>9</td>\n",
       "      <td>...</td>\n",
       "      <td>NaT</td>\n",
       "      <td>0</td>\n",
       "      <td>2163-12-27 14:48:00</td>\n",
       "      <td>80.0</td>\n",
       "      <td>173</td>\n",
       "      <td>80</td>\n",
       "      <td>111.000000</td>\n",
       "      <td>0</td>\n",
       "      <td>0</td>\n",
       "      <td>0</td>\n",
       "    </tr>\n",
       "    <tr>\n",
       "      <th>2</th>\n",
       "      <td>10003019</td>\n",
       "      <td>34378664</td>\n",
       "      <td>2127-09-07 11:55:00</td>\n",
       "      <td>NaN</td>\n",
       "      <td>78.0</td>\n",
       "      <td>18.0</td>\n",
       "      <td>95.0</td>\n",
       "      <td>120.0</td>\n",
       "      <td>56.0</td>\n",
       "      <td>NaN</td>\n",
       "      <td>...</td>\n",
       "      <td>NaT</td>\n",
       "      <td>0</td>\n",
       "      <td>2163-12-27 14:48:00</td>\n",
       "      <td>80.0</td>\n",
       "      <td>173</td>\n",
       "      <td>80</td>\n",
       "      <td>111.000000</td>\n",
       "      <td>0</td>\n",
       "      <td>0</td>\n",
       "      <td>0</td>\n",
       "    </tr>\n",
       "    <tr>\n",
       "      <th>3</th>\n",
       "      <td>10003299</td>\n",
       "      <td>32269360</td>\n",
       "      <td>2185-10-09 18:24:00</td>\n",
       "      <td>98.0</td>\n",
       "      <td>69.0</td>\n",
       "      <td>18.0</td>\n",
       "      <td>100.0</td>\n",
       "      <td>118.0</td>\n",
       "      <td>69.0</td>\n",
       "      <td>2</td>\n",
       "      <td>...</td>\n",
       "      <td>NaT</td>\n",
       "      <td>0</td>\n",
       "      <td>2150-06-08 10:06:00</td>\n",
       "      <td>72.0</td>\n",
       "      <td>132</td>\n",
       "      <td>97</td>\n",
       "      <td>108.666667</td>\n",
       "      <td>0</td>\n",
       "      <td>0</td>\n",
       "      <td>0</td>\n",
       "    </tr>\n",
       "    <tr>\n",
       "      <th>4</th>\n",
       "      <td>10003299</td>\n",
       "      <td>36642617</td>\n",
       "      <td>2145-08-24 18:35:00</td>\n",
       "      <td>NaN</td>\n",
       "      <td>68.0</td>\n",
       "      <td>16.0</td>\n",
       "      <td>100.0</td>\n",
       "      <td>129.0</td>\n",
       "      <td>84.0</td>\n",
       "      <td>0</td>\n",
       "      <td>...</td>\n",
       "      <td>NaT</td>\n",
       "      <td>0</td>\n",
       "      <td>2180-01-23 18:28:00</td>\n",
       "      <td>72.0</td>\n",
       "      <td>167</td>\n",
       "      <td>103</td>\n",
       "      <td>124.333333</td>\n",
       "      <td>0</td>\n",
       "      <td>0</td>\n",
       "      <td>0</td>\n",
       "    </tr>\n",
       "  </tbody>\n",
       "</table>\n",
       "<p>5 rows × 24 columns</p>\n",
       "</div>"
      ],
      "text/plain": [
       "   subject_id   stay_id           charttime  temperature  heartrate  resprate  \\\n",
       "0    10003019  36204964 2120-05-26 22:05:00         98.5       68.0      20.0   \n",
       "1    10003019  34378664 2127-09-07 11:33:00         99.9       80.0      16.0   \n",
       "2    10003019  34378664 2127-09-07 11:55:00          NaN       78.0      18.0   \n",
       "3    10003299  32269360 2185-10-09 18:24:00         98.0       69.0      18.0   \n",
       "4    10003299  36642617 2145-08-24 18:35:00          NaN       68.0      16.0   \n",
       "\n",
       "   o2sat    sbp   dbp pain-min  ...          trans_time trans  \\\n",
       "0   98.0  110.0  42.0        0  ... 2175-06-26 05:59:00     1   \n",
       "1   95.0  173.0  80.0        9  ...                 NaT     0   \n",
       "2   95.0  120.0  56.0      NaN  ...                 NaT     0   \n",
       "3  100.0  118.0  69.0        2  ...                 NaT     0   \n",
       "4  100.0  129.0  84.0        0  ...                 NaT     0   \n",
       "\n",
       "          charttimeBP  heartrate.1 sbp.1  dbp.1         Map  Dying  Medicine  \\\n",
       "0 2175-06-25 12:54:00         67.0   134     51   78.666667      0         0   \n",
       "1 2163-12-27 14:48:00         80.0   173     80  111.000000      0         0   \n",
       "2 2163-12-27 14:48:00         80.0   173     80  111.000000      0         0   \n",
       "3 2150-06-08 10:06:00         72.0   132     97  108.666667      0         0   \n",
       "4 2180-01-23 18:28:00         72.0   167    103  124.333333      0         0   \n",
       "\n",
       "   Medication  \n",
       "0           0  \n",
       "1           0  \n",
       "2           0  \n",
       "3           0  \n",
       "4           0  \n",
       "\n",
       "[5 rows x 24 columns]"
      ]
     },
     "execution_count": 8,
     "metadata": {},
     "output_type": "execute_result"
    }
   ],
   "source": [
    "df.head()"
   ]
  },
  {
   "cell_type": "code",
   "execution_count": 9,
   "id": "09e2d54e",
   "metadata": {},
   "outputs": [
    {
     "data": {
      "text/plain": [
       "(11409, 24)"
      ]
     },
     "execution_count": 9,
     "metadata": {},
     "output_type": "execute_result"
    }
   ],
   "source": [
    "df.shape"
   ]
  },
  {
   "cell_type": "markdown",
   "id": "2353af0f",
   "metadata": {},
   "source": [
    "## 2.提取特征变量和目标变量"
   ]
  },
  {
   "cell_type": "code",
   "execution_count": 23,
   "id": "13f07120",
   "metadata": {},
   "outputs": [],
   "source": [
    "X=df.drop(columns=['Medicine','charttime', 'pain-min', 'intime', 'outtime', 'Sex', 'trans_time', 'charttimeBP', 'Medication'])\n",
    "y=df['Medicine']"
   ]
  },
  {
   "cell_type": "markdown",
   "id": "c9ce1874",
   "metadata": {},
   "source": [
    "## 3. 划分训练集和测试集"
   ]
  },
  {
   "cell_type": "code",
   "execution_count": 24,
   "id": "e5097fcf",
   "metadata": {},
   "outputs": [],
   "source": [
    "from sklearn.model_selection import train_test_split\n",
    "X_train,X_test,y_train,y_test=train_test_split(X,y,test_size=0.2,random_state=123)"
   ]
  },
  {
   "cell_type": "markdown",
   "id": "80afe777",
   "metadata": {},
   "source": [
    "## 4. 模型训练及搭建"
   ]
  },
  {
   "cell_type": "code",
   "execution_count": 25,
   "id": "ced72f93",
   "metadata": {},
   "outputs": [
    {
     "data": {
      "text/plain": [
       "XGBClassifier(base_score=0.5, booster='gbtree', callbacks=None,\n",
       "              colsample_bylevel=1, colsample_bynode=1, colsample_bytree=1,\n",
       "              early_stopping_rounds=None, enable_categorical=False,\n",
       "              eval_metric=None, gamma=0, gpu_id=-1, grow_policy='depthwise',\n",
       "              importance_type=None, interaction_constraints='',\n",
       "              learning_rate=0.05, max_bin=256, max_cat_to_onehot=4,\n",
       "              max_delta_step=0, max_depth=6, max_leaves=0, min_child_weight=1,\n",
       "              missing=nan, monotone_constraints='()', n_estimators=100,\n",
       "              n_jobs=0, num_parallel_tree=1, predictor='auto', random_state=0,\n",
       "              reg_alpha=0, reg_lambda=1, ...)"
      ]
     },
     "execution_count": 25,
     "metadata": {},
     "output_type": "execute_result"
    }
   ],
   "source": [
    "from xgboost import XGBClassifier\n",
    "clf=XGBClassifier(n_estimators=100,learning_rate=0.05)\n",
    "clf.fit(X_train,y_train)"
   ]
  },
  {
   "cell_type": "markdown",
   "id": "07e10077",
   "metadata": {},
   "source": [
    "## 模型预测及评估"
   ]
  },
  {
   "cell_type": "code",
   "execution_count": 28,
   "id": "ba596f32",
   "metadata": {},
   "outputs": [],
   "source": [
    "y_pred=clf.predict(X_test)\n",
    "a=pd.DataFrame() #创建一个空DataFrame\n",
    "a['预测值']=list(y_pred)"
   ]
  },
  {
   "cell_type": "code",
   "execution_count": 29,
   "id": "601a9b56",
   "metadata": {},
   "outputs": [
    {
     "data": {
      "text/html": [
       "<div>\n",
       "<style scoped>\n",
       "    .dataframe tbody tr th:only-of-type {\n",
       "        vertical-align: middle;\n",
       "    }\n",
       "\n",
       "    .dataframe tbody tr th {\n",
       "        vertical-align: top;\n",
       "    }\n",
       "\n",
       "    .dataframe thead th {\n",
       "        text-align: right;\n",
       "    }\n",
       "</style>\n",
       "<table border=\"1\" class=\"dataframe\">\n",
       "  <thead>\n",
       "    <tr style=\"text-align: right;\">\n",
       "      <th></th>\n",
       "      <th>预测值</th>\n",
       "    </tr>\n",
       "  </thead>\n",
       "  <tbody>\n",
       "    <tr>\n",
       "      <th>0</th>\n",
       "      <td>0</td>\n",
       "    </tr>\n",
       "    <tr>\n",
       "      <th>1</th>\n",
       "      <td>0</td>\n",
       "    </tr>\n",
       "    <tr>\n",
       "      <th>2</th>\n",
       "      <td>0</td>\n",
       "    </tr>\n",
       "    <tr>\n",
       "      <th>3</th>\n",
       "      <td>0</td>\n",
       "    </tr>\n",
       "    <tr>\n",
       "      <th>4</th>\n",
       "      <td>0</td>\n",
       "    </tr>\n",
       "    <tr>\n",
       "      <th>...</th>\n",
       "      <td>...</td>\n",
       "    </tr>\n",
       "    <tr>\n",
       "      <th>2277</th>\n",
       "      <td>0</td>\n",
       "    </tr>\n",
       "    <tr>\n",
       "      <th>2278</th>\n",
       "      <td>0</td>\n",
       "    </tr>\n",
       "    <tr>\n",
       "      <th>2279</th>\n",
       "      <td>0</td>\n",
       "    </tr>\n",
       "    <tr>\n",
       "      <th>2280</th>\n",
       "      <td>0</td>\n",
       "    </tr>\n",
       "    <tr>\n",
       "      <th>2281</th>\n",
       "      <td>0</td>\n",
       "    </tr>\n",
       "  </tbody>\n",
       "</table>\n",
       "<p>2282 rows × 1 columns</p>\n",
       "</div>"
      ],
      "text/plain": [
       "      预测值\n",
       "0       0\n",
       "1       0\n",
       "2       0\n",
       "3       0\n",
       "4       0\n",
       "...   ...\n",
       "2277    0\n",
       "2278    0\n",
       "2279    0\n",
       "2280    0\n",
       "2281    0\n",
       "\n",
       "[2282 rows x 1 columns]"
      ]
     },
     "execution_count": 29,
     "metadata": {},
     "output_type": "execute_result"
    }
   ],
   "source": [
    "a['实际值']=list(y_test)"
   ]
  },
  {
   "cell_type": "code",
   "execution_count": 32,
   "id": "573a6f49",
   "metadata": {},
   "outputs": [
    {
     "data": {
      "text/plain": [
       "0.9938650306748467"
      ]
     },
     "execution_count": 32,
     "metadata": {},
     "output_type": "execute_result"
    }
   ],
   "source": [
    "from sklearn.metrics import accuracy_score\n",
    "score=accuracy_score(y_pred,y_test)\n",
    "score"
   ]
  },
  {
   "cell_type": "code",
   "execution_count": 31,
   "id": "a5f37711",
   "metadata": {},
   "outputs": [
    {
     "data": {
      "text/plain": [
       "0.9938650306748467"
      ]
     },
     "execution_count": 31,
     "metadata": {},
     "output_type": "execute_result"
    }
   ],
   "source": [
    "clf.score(X_test,y_test) #clf也有自带的"
   ]
  },
  {
   "cell_type": "code",
   "execution_count": 33,
   "id": "ef549329",
   "metadata": {},
   "outputs": [
    {
     "data": {
      "text/plain": [
       "array([0.00461108, 0.00673766, 0.00552698, ..., 0.0043621 , 0.01010635,\n",
       "       0.00498605], dtype=float32)"
      ]
     },
     "execution_count": 33,
     "metadata": {},
     "output_type": "execute_result"
    }
   ],
   "source": [
    "from sklearn.metrics import roc_curve\n",
    "y_pred_proba=clf.predict_proba(X_test)\n",
    "y_pred_proba[:,1] #想看medicine分类为1的概率"
   ]
  },
  {
   "cell_type": "code",
   "execution_count": 35,
   "id": "628e6b88",
   "metadata": {},
   "outputs": [
    {
     "data": {
      "image/png": "[encoded data removed]",
      "text/plain": [
       "<Figure size 432x288 with 1 Axes>"
      ]
     },
     "metadata": {
      "needs_background": "light"
     },
     "output_type": "display_data"
    }
   ],
   "source": [
    "fpr,tpr,thres=roc_curve(y_test,y_pred_proba[:,1])\n",
    "import matplotlib.pyplot as plt\n",
    "plt.plot(fpr,tpr)\n",
    "plt.show()"
   ]
  },
  {
   "cell_type": "code",
   "execution_count": 60,
   "id": "7415b76e",
   "metadata": {},
   "outputs": [
    {
     "data": {
      "text/plain": [
       "6961     0\n",
       "2484     0\n",
       "10267    0\n",
       "6681     0\n",
       "5618     0\n",
       "        ..\n",
       "9529     0\n",
       "10262    0\n",
       "5239     0\n",
       "5867     0\n",
       "5296     0\n",
       "Name: Medicine, Length: 2282, dtype: int64"
      ]
     },
     "execution_count": 60,
     "metadata": {},
     "output_type": "execute_result"
    }
   ],
   "source": [
    "import seaborn as sn\n",
    "from sklearn.metrics import confusion_matrix\n",
    "import matplotlib.pyplot as plt\n",
    "y_test\n",
    "# cm=confusion_matrix(y_test,y_pred,labels=[0,1,2])"
   ]
  },
  {
   "cell_type": "code",
   "execution_count": 75,
   "id": "e86cb309",
   "metadata": {},
   "outputs": [
    {
     "name": "stdout",
     "output_type": "stream",
     "text": [
      "[[3 2]\n",
      " [1 6]]\n"
     ]
    },
    {
     "data": {
      "text/plain": [
       "Text(30.5, 0.5, 'True')"
      ]
     },
     "execution_count": 75,
     "metadata": {},
     "output_type": "execute_result"
    },
    {
     "data": {
      "image/png": "[encoded data removed]",
      "text/plain": [
       "<Figure size 432x288 with 2 Axes>"
      ]
     },
     "metadata": {},
     "output_type": "display_data"
    }
   ],
   "source": [
    "sn.set()\n",
    "f,ax=plt.subplots()\n",
    "y_true = [0,0,1,0,1,1,0,1,1,0,1,1]\n",
    "y_pred = [1,0,1,1,1,0,0,1,1,0,1,1]\n",
    "C2= confusion_matrix(y_true, y_pred, labels=[0, 1])\n",
    "print(C2) #打印出来看看\n",
    "# sn.heatmap(C2,annot=True,ax=ax) #画热力图\n",
    "sn.heatmap(C2,annot=True,ax=ax, cmap=\"BuPu\") #画热力图\n",
    "ax.set_title('confusion matrix')\n",
    "ax.set_xlabel('Predict')\n",
    "ax.set_ylabel('True')"
   ]
  },
  {
   "cell_type": "code",
   "execution_count": null,
   "id": "d181962d",
   "metadata": {},
   "outputs": [],
   "source": []
  }
 ],
 "metadata": {
  "kernelspec": {
   "display_name": "Python 3 (ipykernel)",
   "language": "python",
   "name": "python3"
  },
  "language_info": {
   "codemirror_mode": {
    "name": "ipython",
    "version": 3
   },
   "file_extension": ".py",
   "mimetype": "text/x-python",
   "name": "python",
   "nbconvert_exporter": "python",
   "pygments_lexer": "ipython3",
   "version": "3.7.11"
  }
 },
 "nbformat": 4,
 "nbformat_minor": 5
}
