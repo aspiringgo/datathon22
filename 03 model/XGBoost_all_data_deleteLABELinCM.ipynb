{
 "cells": [
  {
   "cell_type": "code",
   "execution_count": 43,
   "id": "7ea639ff-9f3b-4d88-a227-be0a4417d9a9",
   "metadata": {},
   "outputs": [],
   "source": [
    "import numpy as np # linear algebra\n",
    "import pandas as pd # data processing, CSV file I/O (e.g. pd.read_csv)\n",
    "# import torch\n",
    "# from torch import nn\n",
    "# import torch.nn.functional as F\n",
    "# from torch import optim\n",
    "import sklearn\n",
    "# from sklearn.neural_network import MLPClassifier\n",
    "from sklearn import preprocessing\n",
    "from sklearn.model_selection import train_test_split\n",
    "# main function\n",
    "raw_data = pd.read_csv('zhengyang/data.csv')\n",
    "raw_df = pd.DataFrame({\n",
    "    \"gender\": raw_data.gender,\n",
    "    \"race\": raw_data.race,\n",
    "    \"age\": raw_data.age,  \n",
    "    \"atrial_fibrillation\": raw_data.atrial_fibrillation,\n",
    "    \"ischemic_stroke\": raw_data.ischemic_stroke, \n",
    "    \"trsnsient_ischemic_attack\": raw_data.trsnsient_ischemic_attack,\n",
    "    \"peripheral_arterial_occusive\": raw_data.peripheral_arterial_occusive, \n",
    "    \"myocardial_infarction\": raw_data.myocardial_infarction,\n",
    "    \"congestive_heart_failure\": raw_data.congestive_heart_failure,\n",
    "    \"hypertension\": raw_data.hypertension,\n",
    "    \"diabates_mellitus\": raw_data.diabates_mellitus,\n",
    "    \"hyperlipidemia\": raw_data.hyperlipidemia,\n",
    "    \"aspirin\": raw_data.aspirin,\n",
    "    #\"warfarin\":raw_data.warfarin,\n",
    "    \"bb\": raw_data.bb,\n",
    "    \"heartrate_max\": raw_data.heartrate_max,\n",
    "    \"sbp_min\": raw_data.sbp_min,\n",
    "    #\"map_min\": raw_data.map_min,\n",
    "    \"base_excess_val\": raw_data.base_excess_val,\n",
    "    \"ph_val\": raw_data.ph_val,\n",
    "    \"hemoglobin_val\": raw_data.hemoglobin_val,\n",
    "    \"lactate_val\": raw_data.lactate_val,\n",
    "    \"pt_val\": raw_data.pt_val,\n",
    "    \"ptt_val\": raw_data.ptt_val,\n",
    "    \"inr_val\": raw_data.inr_val,\n",
    "    \"urea_nitrogen_val\": raw_data.urea_nitrogen_val,\n",
    "    \"creatinine_val\": raw_data.creatinine_val,\n",
    "    \"platelet_count_val\": raw_data.platelet_count_val,\n",
    "    \"bilirubin_val\": raw_data.bilirubin_val,\n",
    "    \"albumin_val\": raw_data.albumin_val,\n",
    "    \"bun\": raw_data.bun,\n",
    "    \"label\": raw_data.trans\n",
    "})\n",
    "# change the race and gender into values\n",
    "raw_df['gender'] = raw_df['gender'].replace(['F'], 1)\n",
    "raw_df['gender'] = raw_df['gender'].replace(['M'], 0)\n",
    "raw_df['race'] = raw_df['race'].replace(['WHITE'], 1)\n",
    "raw_df['race'] = raw_df['race'].replace(['BLACK/AFRICAN AMERICAN', 'HISPANIC/LATINO - DOMINICAN',\n",
    "       'WHITE - OTHER EUROPEAN', 'OTHER', 'ASIAN','UNKNOWN'],0)\n",
    "raw_df['race'] = raw_df['race'].replace(['ASIAN - CHINESE', 'BLACK/CARIBBEAN ISLAND', 'BLACK/CAPE VERDEAN',\n",
    "       'ASIAN - SOUTH EAST ASIAN', 'HISPANIC/LATINO - PUERTO RICAN',\n",
    "       'WHITE - RUSSIAN', 'WHITE - EASTERN EUROPEAN'],0)\n",
    "raw_df['race'] = raw_df['race'].replace(['PATIENT DECLINED TO ANSWER', 'MULTIPLE RACE/ETHNICITY',\n",
    "       'HISPANIC/LATINO - HONDURAN', 'UNABLE TO OBTAIN', 'PORTUGUESE',\n",
    "       'HISPANIC/LATINO - COLUMBIAN', 'HISPANIC OR LATINO'],0)\n",
    "raw_df['race'] = raw_df['race'].replace(['AMERICAN INDIAN/ALASKA NATIVE', 'BLACK/AFRICAN',\n",
    "       'WHITE - BRAZILIAN', 'HISPANIC/LATINO - GUATEMALAN',\n",
    "       'HISPANIC/LATINO - SALVADORAN', 'HISPANIC/LATINO - MEXICAN',\n",
    "       'SOUTH AMERICAN'],0)\n",
    "raw_df['race'] = raw_df['race'].replace(['NATIVE HAWAIIAN OR OTHER PACIFIC ISLANDER',\n",
    "       'ASIAN - ASIAN INDIAN', 'ASIAN - KOREAN'],0)\n",
    "raw_df['gender']=raw_df['gender'].astype(float)\n",
    "raw_df['race']=raw_df['race'].astype(float)\n",
    "raw_df\n",
    "# data pre-processing\n",
    "all_features = list(raw_df)\n",
    "target = ['label']\n",
    "features = list(set(all_features)-set(target))\n",
    "# raw_df.features = DataScaler(raw_df.features)\n",
    "# raw_df[:,features] = DataScaler(raw_df[:,features])\n",
    "\n",
    "# fill the binary missing values\n",
    "raw_df['atrial_fibrillation'] = raw_df['atrial_fibrillation'].fillna(0)\n",
    "raw_df['ischemic_stroke'] = raw_df['ischemic_stroke'].fillna(0)\n",
    "raw_df['trsnsient_ischemic_attack'] = raw_df['trsnsient_ischemic_attack'].fillna(0)\n",
    "raw_df['peripheral_arterial_occusive'] = raw_df['peripheral_arterial_occusive'].fillna(0)\n",
    "raw_df['myocardial_infarction'] = raw_df['myocardial_infarction'].fillna(0)\n",
    "raw_df['congestive_heart_failure'] = raw_df['congestive_heart_failure'].fillna(0)\n",
    "raw_df['hypertension'] = raw_df['hypertension'].fillna(0)\n",
    "raw_df['diabates_mellitus'] = raw_df['diabates_mellitus'].fillna(0)\n",
    "raw_df['hyperlipidemia'] = raw_df['hyperlipidemia'].fillna(0)\n",
    "raw_df['aspirin'] = raw_df['aspirin'].fillna(0)\n",
    "#raw_df['warfarin'] = raw_df['warfarin'].fillna(0)\n",
    "raw_df['bb'] = raw_df['bb'].fillna(0)\n",
    "\n",
    "raw_df\n",
    "# raw_df(raw_df.info())\n",
    "# Impute with mean imputation\n",
    "from sklearn.impute import SimpleImputer\n",
    "df = raw_df.copy()\n",
    "mean_imputer = SimpleImputer(strategy='mean')\n",
    "df['heartrate_max'] = mean_imputer.fit_transform(df['heartrate_max'].values.reshape(-1,1))\n",
    "#df['map_min'] = mean_imputer.fit_transform(df['map_min'].values.reshape(-1,1))\n",
    "df['base_excess_val'] = mean_imputer.fit_transform(df['base_excess_val'].values.reshape(-1,1))\n",
    "df['ph_val'] = mean_imputer.fit_transform(df['ph_val'].values.reshape(-1,1))\n",
    "df['hemoglobin_val'] = mean_imputer.fit_transform(df['hemoglobin_val'].values.reshape(-1,1))\n",
    "df['lactate_val'] = mean_imputer.fit_transform(df['lactate_val'].values.reshape(-1,1))\n",
    "df['pt_val'] = mean_imputer.fit_transform(df['pt_val'].values.reshape(-1,1))\n",
    "df['ptt_val'] = mean_imputer.fit_transform(df['ptt_val'].values.reshape(-1,1))\n",
    "df['inr_val'] = mean_imputer.fit_transform(df['inr_val'].values.reshape(-1,1))\n",
    "df['urea_nitrogen_val'] = mean_imputer.fit_transform(df['urea_nitrogen_val'].values.reshape(-1,1))\n",
    "df['creatinine_val'] = mean_imputer.fit_transform(df['creatinine_val'].values.reshape(-1,1))\n",
    "df['platelet_count_val'] = mean_imputer.fit_transform(df['platelet_count_val'].values.reshape(-1,1))\n",
    "df['bilirubin_val'] = mean_imputer.fit_transform(df['bilirubin_val'].values.reshape(-1,1))\n",
    "df['albumin_val'] = mean_imputer.fit_transform(df['albumin_val'].values.reshape(-1,1))\n",
    "df\n",
    "# reduce the dtype\n",
    "df = df.astype('float32')"
   ]
  },
  {
   "cell_type": "code",
   "execution_count": 44,
   "id": "2b6861da-9099-47ac-923d-46bfc4b96951",
   "metadata": {},
   "outputs": [],
   "source": [
    "train_data = df.sample(2230)\n",
    "test_data = df.drop(train_data.index)\n",
    "x_train = train_data.drop(target,axis=1)\n",
    "y_train = train_data.loc[:,'label']\n",
    "x_valid = test_data.drop(target,axis=1)\n",
    "y_valid = test_data.loc[:,'label']\n",
    "\n",
    "x_train = np.asarray(x_train)\n",
    "y_train = np.asarray(y_train)\n",
    "x_valid = np.asarray(x_valid)\n",
    "y_valid = np.asarray(y_valid)"
   ]
  },
  {
   "cell_type": "code",
   "execution_count": 45,
   "id": "af7d2e45-415c-4661-a80f-402f580d5fcf",
   "metadata": {},
   "outputs": [
    {
     "data": {
      "text/html": [
       "<div>\n",
       "<style scoped>\n",
       "    .dataframe tbody tr th:only-of-type {\n",
       "        vertical-align: middle;\n",
       "    }\n",
       "\n",
       "    .dataframe tbody tr th {\n",
       "        vertical-align: top;\n",
       "    }\n",
       "\n",
       "    .dataframe thead th {\n",
       "        text-align: right;\n",
       "    }\n",
       "</style>\n",
       "<table border=\"1\" class=\"dataframe\">\n",
       "  <thead>\n",
       "    <tr style=\"text-align: right;\">\n",
       "      <th></th>\n",
       "      <th>gender</th>\n",
       "      <th>race</th>\n",
       "      <th>age</th>\n",
       "      <th>atrial_fibrillation</th>\n",
       "      <th>ischemic_stroke</th>\n",
       "      <th>trsnsient_ischemic_attack</th>\n",
       "      <th>peripheral_arterial_occusive</th>\n",
       "      <th>myocardial_infarction</th>\n",
       "      <th>congestive_heart_failure</th>\n",
       "      <th>hypertension</th>\n",
       "      <th>...</th>\n",
       "      <th>lactate_val</th>\n",
       "      <th>pt_val</th>\n",
       "      <th>ptt_val</th>\n",
       "      <th>inr_val</th>\n",
       "      <th>urea_nitrogen_val</th>\n",
       "      <th>creatinine_val</th>\n",
       "      <th>platelet_count_val</th>\n",
       "      <th>bilirubin_val</th>\n",
       "      <th>albumin_val</th>\n",
       "      <th>bun</th>\n",
       "    </tr>\n",
       "  </thead>\n",
       "  <tbody>\n",
       "    <tr>\n",
       "      <th>0</th>\n",
       "      <td>1.0</td>\n",
       "      <td>0.0</td>\n",
       "      <td>50.681782</td>\n",
       "      <td>0.0</td>\n",
       "      <td>0.0</td>\n",
       "      <td>0.0</td>\n",
       "      <td>0.0</td>\n",
       "      <td>0.0</td>\n",
       "      <td>0.0</td>\n",
       "      <td>0.0</td>\n",
       "      <td>...</td>\n",
       "      <td>1.300000</td>\n",
       "      <td>12.600000</td>\n",
       "      <td>23.500000</td>\n",
       "      <td>1.200000</td>\n",
       "      <td>18.0</td>\n",
       "      <td>44.000000</td>\n",
       "      <td>182.0</td>\n",
       "      <td>0.4000</td>\n",
       "      <td>3.300000</td>\n",
       "      <td>0.409091</td>\n",
       "    </tr>\n",
       "    <tr>\n",
       "      <th>1</th>\n",
       "      <td>1.0</td>\n",
       "      <td>0.0</td>\n",
       "      <td>66.859550</td>\n",
       "      <td>0.0</td>\n",
       "      <td>0.0</td>\n",
       "      <td>0.0</td>\n",
       "      <td>0.0</td>\n",
       "      <td>0.0</td>\n",
       "      <td>0.0</td>\n",
       "      <td>0.0</td>\n",
       "      <td>...</td>\n",
       "      <td>2.161898</td>\n",
       "      <td>16.009886</td>\n",
       "      <td>34.172657</td>\n",
       "      <td>1.485927</td>\n",
       "      <td>25.0</td>\n",
       "      <td>140.800003</td>\n",
       "      <td>622.0</td>\n",
       "      <td>0.1000</td>\n",
       "      <td>3.250706</td>\n",
       "      <td>0.177557</td>\n",
       "    </tr>\n",
       "    <tr>\n",
       "      <th>2</th>\n",
       "      <td>0.0</td>\n",
       "      <td>0.0</td>\n",
       "      <td>55.191311</td>\n",
       "      <td>0.0</td>\n",
       "      <td>0.0</td>\n",
       "      <td>0.0</td>\n",
       "      <td>0.0</td>\n",
       "      <td>0.0</td>\n",
       "      <td>0.0</td>\n",
       "      <td>0.0</td>\n",
       "      <td>...</td>\n",
       "      <td>2.161898</td>\n",
       "      <td>13.000000</td>\n",
       "      <td>29.500000</td>\n",
       "      <td>1.200000</td>\n",
       "      <td>21.0</td>\n",
       "      <td>52.799999</td>\n",
       "      <td>102.0</td>\n",
       "      <td>3.2000</td>\n",
       "      <td>2.700000</td>\n",
       "      <td>0.397727</td>\n",
       "    </tr>\n",
       "    <tr>\n",
       "      <th>3</th>\n",
       "      <td>1.0</td>\n",
       "      <td>0.0</td>\n",
       "      <td>34.918964</td>\n",
       "      <td>0.0</td>\n",
       "      <td>0.0</td>\n",
       "      <td>0.0</td>\n",
       "      <td>0.0</td>\n",
       "      <td>0.0</td>\n",
       "      <td>0.0</td>\n",
       "      <td>0.0</td>\n",
       "      <td>...</td>\n",
       "      <td>2.161898</td>\n",
       "      <td>12.700000</td>\n",
       "      <td>28.000000</td>\n",
       "      <td>1.200000</td>\n",
       "      <td>13.0</td>\n",
       "      <td>52.799999</td>\n",
       "      <td>279.0</td>\n",
       "      <td>1.4601</td>\n",
       "      <td>3.250706</td>\n",
       "      <td>0.246212</td>\n",
       "    </tr>\n",
       "    <tr>\n",
       "      <th>4</th>\n",
       "      <td>0.0</td>\n",
       "      <td>0.0</td>\n",
       "      <td>52.317101</td>\n",
       "      <td>0.0</td>\n",
       "      <td>0.0</td>\n",
       "      <td>0.0</td>\n",
       "      <td>0.0</td>\n",
       "      <td>0.0</td>\n",
       "      <td>0.0</td>\n",
       "      <td>0.0</td>\n",
       "      <td>...</td>\n",
       "      <td>0.900000</td>\n",
       "      <td>13.000000</td>\n",
       "      <td>28.100000</td>\n",
       "      <td>1.200000</td>\n",
       "      <td>21.0</td>\n",
       "      <td>96.800003</td>\n",
       "      <td>100.0</td>\n",
       "      <td>1.2000</td>\n",
       "      <td>3.250706</td>\n",
       "      <td>0.216942</td>\n",
       "    </tr>\n",
       "  </tbody>\n",
       "</table>\n",
       "<p>5 rows × 29 columns</p>\n",
       "</div>"
      ],
      "text/plain": [
       "   gender  race        age  atrial_fibrillation  ischemic_stroke  \\\n",
       "0     1.0   0.0  50.681782                  0.0              0.0   \n",
       "1     1.0   0.0  66.859550                  0.0              0.0   \n",
       "2     0.0   0.0  55.191311                  0.0              0.0   \n",
       "3     1.0   0.0  34.918964                  0.0              0.0   \n",
       "4     0.0   0.0  52.317101                  0.0              0.0   \n",
       "\n",
       "   trsnsient_ischemic_attack  peripheral_arterial_occusive  \\\n",
       "0                        0.0                           0.0   \n",
       "1                        0.0                           0.0   \n",
       "2                        0.0                           0.0   \n",
       "3                        0.0                           0.0   \n",
       "4                        0.0                           0.0   \n",
       "\n",
       "   myocardial_infarction  congestive_heart_failure  hypertension  ...  \\\n",
       "0                    0.0                       0.0           0.0  ...   \n",
       "1                    0.0                       0.0           0.0  ...   \n",
       "2                    0.0                       0.0           0.0  ...   \n",
       "3                    0.0                       0.0           0.0  ...   \n",
       "4                    0.0                       0.0           0.0  ...   \n",
       "\n",
       "   lactate_val     pt_val    ptt_val   inr_val  urea_nitrogen_val  \\\n",
       "0     1.300000  12.600000  23.500000  1.200000               18.0   \n",
       "1     2.161898  16.009886  34.172657  1.485927               25.0   \n",
       "2     2.161898  13.000000  29.500000  1.200000               21.0   \n",
       "3     2.161898  12.700000  28.000000  1.200000               13.0   \n",
       "4     0.900000  13.000000  28.100000  1.200000               21.0   \n",
       "\n",
       "   creatinine_val  platelet_count_val  bilirubin_val  albumin_val       bun  \n",
       "0       44.000000               182.0         0.4000     3.300000  0.409091  \n",
       "1      140.800003               622.0         0.1000     3.250706  0.177557  \n",
       "2       52.799999               102.0         3.2000     2.700000  0.397727  \n",
       "3       52.799999               279.0         1.4601     3.250706  0.246212  \n",
       "4       96.800003               100.0         1.2000     3.250706  0.216942  \n",
       "\n",
       "[5 rows x 29 columns]"
      ]
     },
     "execution_count": 45,
     "metadata": {},
     "output_type": "execute_result"
    }
   ],
   "source": [
    "x = df.drop(target, axis=1)\n",
    "y = df.loc[:, 'label']\n",
    "x.head()"
   ]
  },
  {
   "cell_type": "code",
   "execution_count": 46,
   "id": "8a44493d-5ead-41c6-b040-ff57ea616ab1",
   "metadata": {},
   "outputs": [],
   "source": [
    "x_train, x_valid, y_train, y_valid = train_test_split(x, y, shuffle=True, stratify=y, random_state=22)\n",
    "x_train = np.asarray(x_train)\n",
    "y_train = np.asarray(y_train)\n",
    "x_valid = np.asarray(x_valid)\n",
    "y_valid = np.asarray(y_valid)"
   ]
  },
  {
   "cell_type": "code",
   "execution_count": 47,
   "id": "9fb6d05e-de25-43ba-a04f-46a55d371377",
   "metadata": {},
   "outputs": [
    {
     "data": {
      "text/plain": [
       "XGBClassifier(base_score=0.5, booster='gbtree', callbacks=None,\n",
       "              colsample_bylevel=1, colsample_bynode=1, colsample_bytree=1,\n",
       "              early_stopping_rounds=None, enable_categorical=False,\n",
       "              eval_metric=None, gamma=0, gpu_id=-1, grow_policy='depthwise',\n",
       "              importance_type=None, interaction_constraints='',\n",
       "              learning_rate=0.300000012, max_bin=256, max_cat_to_onehot=4,\n",
       "              max_delta_step=0, max_depth=6, max_leaves=0, min_child_weight=1,\n",
       "              missing=nan, monotone_constraints='()', n_estimators=100,\n",
       "              n_jobs=0, num_parallel_tree=1, predictor='auto', random_state=0,\n",
       "              reg_alpha=0, reg_lambda=1, ...)"
      ]
     },
     "execution_count": 47,
     "metadata": {},
     "output_type": "execute_result"
    }
   ],
   "source": [
    "from xgboost import XGBClassifier\n",
    "model=XGBClassifier()\n",
    "model.fit(x_train, y_train)"
   ]
  },
  {
   "cell_type": "code",
   "execution_count": 48,
   "id": "db874004-d3cd-45f7-802a-8b7a70109f26",
   "metadata": {},
   "outputs": [
    {
     "data": {
      "text/plain": [
       "0.831989247311828"
      ]
     },
     "execution_count": 48,
     "metadata": {},
     "output_type": "execute_result"
    }
   ],
   "source": [
    "import matplotlib.pyplot as plt\n",
    "from sklearn.metrics import accuracy_score\n",
    "y_pred=model.predict(x_valid)\n",
    "score=accuracy_score(y_pred,y_valid)\n",
    "score"
   ]
  },
  {
   "cell_type": "code",
   "execution_count": 49,
   "id": "eeab62c5-f390-4410-9917-3f1edf1416c8",
   "metadata": {},
   "outputs": [],
   "source": [
    "from sklearn.metrics import roc_curve\n",
    "y_pred_proba=model.predict_proba(x_valid)\n",
    "y_pred_proba[:,1] #想看输血分类为1的概率\n",
    "fpr,tpr,thres=roc_curve(y_valid,y_pred_proba[:,1])\n"
   ]
  },
  {
   "cell_type": "code",
   "execution_count": 50,
   "id": "442742c6-5a3c-404d-a96b-97f61e995eeb",
   "metadata": {},
   "outputs": [
    {
     "data": {
      "image/png": "[encoded data removed]",
      "text/plain": [
       "<Figure size 500x500 with 1 Axes>"
      ]
     },
     "metadata": {},
     "output_type": "display_data"
    }
   ],
   "source": [
    "import matplotlib.pyplot as plt\n",
    "plt.style.use('tableau-colorblind10')\n",
    "plt.figure(figsize = (5,5))\n",
    "plt.xlim(-0.05,1.05)\n",
    "plt.ylim(-0.05,1.05)\n",
    "plt.title('AUROC of XGBoost for all data')\n",
    "plt.plot(fpr,tpr,c = '#003D7C',ls='-',lw = 1,  ms = 8, mec='r',mew=3,mfc='y',alpha =1)\n",
    "plt.show()"
   ]
  },
  {
   "cell_type": "code",
   "execution_count": 51,
   "id": "b19a17bc-05ca-461e-8bbf-3ee081e3efb8",
   "metadata": {},
   "outputs": [
    {
     "data": {
      "text/plain": [
       "Text(46.25, 0.5, 'True')"
      ]
     },
     "execution_count": 51,
     "metadata": {},
     "output_type": "execute_result"
    },
    {
     "data": {
      "image/png": "[encoded data removed]",
      "text/plain": [
       "<Figure size 640x480 with 2 Axes>"
      ]
     },
     "metadata": {},
     "output_type": "display_data"
    }
   ],
   "source": [
    "import seaborn as sn\n",
    "from sklearn.metrics import confusion_matrix\n",
    "import matplotlib.pyplot as plt\n",
    "\n",
    "sn.set()\n",
    "f,ax=plt.subplots()\n",
    "C2= confusion_matrix(y_valid, y_pred)\n",
    "sn.heatmap(C2,annot=True,ax=ax, cmap=\"BuPu\") #画热力图\n",
    "ax.set_title('confusion matrix for all data')\n",
    "ax.set_xlabel('Predict')\n",
    "ax.set_ylabel('True')"
   ]
  },
  {
   "cell_type": "code",
   "execution_count": 33,
   "id": "c56ccb45-f61e-4c6a-9723-b90535a553c4",
   "metadata": {},
   "outputs": [
    {
     "ename": "TypeError",
     "evalue": "'tuple' object is not callable",
     "output_type": "error",
     "traceback": [
      "\u001b[0;31m---------------------------------------------------------------------------\u001b[0m",
      "\u001b[0;31mTypeError\u001b[0m                                 Traceback (most recent call last)",
      "\u001b[0;32m/tmp/ipykernel_523/2926724546.py\u001b[0m in \u001b[0;36m<module>\u001b[0;34m\u001b[0m\n\u001b[0;32m----> 1\u001b[0;31m \u001b[0mtest_data\u001b[0m\u001b[0;34m.\u001b[0m\u001b[0mshape\u001b[0m\u001b[0;34m(\u001b[0m\u001b[0;34m)\u001b[0m\u001b[0;34m\u001b[0m\u001b[0;34m\u001b[0m\u001b[0m\n\u001b[0m",
      "\u001b[0;31mTypeError\u001b[0m: 'tuple' object is not callable"
     ]
    }
   ],
   "source": [
    "test_data.shape()"
   ]
  },
  {
   "cell_type": "code",
   "execution_count": 34,
   "id": "6ebac079-d614-4364-840a-f1b8177e2ef2",
   "metadata": {},
   "outputs": [
    {
     "data": {
      "text/plain": [
       "0.8242703356168326"
      ]
     },
     "execution_count": 34,
     "metadata": {},
     "output_type": "execute_result"
    }
   ],
   "source": [
    "from sklearn.datasets import load_breast_cancer\n",
    "from sklearn.linear_model import LogisticRegression\n",
    "from sklearn.metrics import roc_auc_score\n",
    "\n",
    "roc_auc_score(y_valid,y_pred_proba[:,1])\n",
    "\n"
   ]
  },
  {
   "cell_type": "code",
   "execution_count": 35,
   "id": "bc56d076-c7cc-46fb-9f63-15200f1a23b6",
   "metadata": {},
   "outputs": [
    {
     "data": {
      "text/plain": [
       "array([0.        , 0.00166945, 0.02337229, 0.02337229, 0.07178631,\n",
       "       0.07178631, 0.17195326, 0.17195326, 0.24707846, 0.24707846,\n",
       "       0.28547579, 0.28547579, 0.31719533, 0.31719533, 0.46410684,\n",
       "       0.46410684, 0.47579299, 0.47579299, 0.48414023, 0.48414023,\n",
       "       0.49248748, 0.49248748, 0.50751252, 0.50751252, 0.52754591,\n",
       "       0.52754591, 0.5442404 , 0.5442404 , 0.5509182 , 0.5509182 ,\n",
       "       0.55759599, 0.55759599, 0.56260434, 0.56260434, 0.56761269,\n",
       "       0.56761269, 0.59265442, 0.59265442, 0.61268781, 0.61268781,\n",
       "       0.66444073, 0.66444073, 0.67111853, 0.67111853, 0.68781302,\n",
       "       0.68781302, 0.69449082, 0.69449082, 0.70116861, 0.70116861,\n",
       "       0.71953255, 0.71953255, 0.73288815, 0.73288815, 0.74958264,\n",
       "       0.74958264, 0.75459098, 0.75459098, 0.77128548, 0.77128548,\n",
       "       0.77796327, 0.77796327, 0.77963272, 0.77963272, 0.78464107,\n",
       "       0.78464107, 0.78631052, 0.78631052, 0.79131886, 0.79131886,\n",
       "       0.79632721, 0.79632721, 0.80133556, 0.80133556, 0.80300501,\n",
       "       0.80300501, 0.8096828 , 0.8096828 , 0.81469115, 0.81469115,\n",
       "       0.8196995 , 0.8196995 , 0.82136895, 0.82136895, 0.82971619,\n",
       "       0.82971619, 0.83472454, 0.83472454, 0.83973289, 0.83973289,\n",
       "       0.85141903, 0.85141903, 0.85475793, 0.85475793, 0.85642738,\n",
       "       0.85642738, 0.86644407, 0.86644407, 0.87646077, 0.87646077,\n",
       "       0.87813022, 0.87813022, 0.88146912, 0.88146912, 0.88313856,\n",
       "       0.88313856, 0.88814691, 0.88814691, 0.89148581, 0.89148581,\n",
       "       0.89649416, 0.89649416, 0.90651085, 0.90651085, 0.9081803 ,\n",
       "       0.9081803 , 0.9115192 , 0.9115192 , 0.91652755, 0.91652755,\n",
       "       0.92320534, 0.92320534, 0.92487479, 0.92487479, 0.92821369,\n",
       "       0.92821369, 0.93322204, 0.93322204, 0.93656093, 0.93656093,\n",
       "       0.93823038, 0.93823038, 0.94490818, 0.94490818, 0.95158598,\n",
       "       0.95158598, 0.95325543, 0.95325543, 0.95492487, 0.95492487,\n",
       "       0.95659432, 0.95659432, 0.96327212, 0.96327212, 0.96661102,\n",
       "       0.96661102, 0.96994992, 0.96994992, 0.97161937, 0.97161937,\n",
       "       0.97328881, 0.97328881, 0.97829716, 0.97829716, 0.98330551,\n",
       "       0.98330551, 0.98497496, 0.98497496, 0.98664441, 0.98664441,\n",
       "       0.98998331, 0.98998331, 0.99165275, 0.99165275, 0.9933222 ,\n",
       "       0.9933222 , 0.99499165, 0.99499165, 0.99833055, 0.99833055,\n",
       "       1.        , 1.        ])"
      ]
     },
     "execution_count": 35,
     "metadata": {},
     "output_type": "execute_result"
    }
   ],
   "source": [
    "tpr"
   ]
  },
  {
   "cell_type": "code",
   "execution_count": 36,
   "id": "d7bf4d50-7850-4179-b210-8bb72bb4c037",
   "metadata": {},
   "outputs": [
    {
     "data": {
      "text/plain": [
       "array([1.9999809 , 0.9999809 , 0.9999436 , 0.99994326, 0.9998134 ,\n",
       "       0.99980766, 0.99942136, 0.9993993 , 0.99881136, 0.9988096 ,\n",
       "       0.9984269 , 0.9984107 , 0.99807286, 0.9980586 , 0.99422616,\n",
       "       0.9942186 , 0.9935855 , 0.9935481 , 0.99316895, 0.99298483,\n",
       "       0.992463  , 0.99237627, 0.99180907, 0.9915473 , 0.9903776 ,\n",
       "       0.9901496 , 0.9893355 , 0.9892379 , 0.9887233 , 0.98870134,\n",
       "       0.98829365, 0.98805106, 0.98791903, 0.98767626, 0.9863667 ,\n",
       "       0.9862874 , 0.9827346 , 0.9827305 , 0.97977245, 0.979474  ,\n",
       "       0.9722055 , 0.97215873, 0.97114706, 0.9710084 , 0.9671847 ,\n",
       "       0.9668521 , 0.9649003 , 0.9640558 , 0.96211404, 0.9619972 ,\n",
       "       0.95381755, 0.9537844 , 0.94660443, 0.94622254, 0.93980527,\n",
       "       0.9390188 , 0.9372503 , 0.9362823 , 0.9216922 , 0.9215792 ,\n",
       "       0.9191324 , 0.91858006, 0.9146701 , 0.9057404 , 0.90319026,\n",
       "       0.90177745, 0.9012644 , 0.90069157, 0.89847404, 0.8965605 ,\n",
       "       0.89169127, 0.8879929 , 0.88176537, 0.8768799 , 0.876826  ,\n",
       "       0.8756844 , 0.8662227 , 0.866024  , 0.86365044, 0.8624563 ,\n",
       "       0.85376096, 0.8531932 , 0.8529006 , 0.842634  , 0.83208317,\n",
       "       0.8287217 , 0.81999856, 0.81884813, 0.80979943, 0.8075936 ,\n",
       "       0.7797017 , 0.7749539 , 0.77259195, 0.77099156, 0.76889986,\n",
       "       0.76412994, 0.7515433 , 0.7434902 , 0.71906793, 0.71864295,\n",
       "       0.70606256, 0.70125306, 0.69518965, 0.6947696 , 0.6938052 ,\n",
       "       0.69315547, 0.6590147 , 0.6574351 , 0.65415084, 0.6250645 ,\n",
       "       0.6110986 , 0.5898351 , 0.56390893, 0.5510812 , 0.5465778 ,\n",
       "       0.5387334 , 0.5334784 , 0.5208541 , 0.5126202 , 0.4974751 ,\n",
       "       0.47978923, 0.45561573, 0.45287102, 0.4284623 , 0.4252448 ,\n",
       "       0.42201617, 0.41433147, 0.41297814, 0.4092469 , 0.391012  ,\n",
       "       0.36419964, 0.3522907 , 0.34244356, 0.33716595, 0.27751887,\n",
       "       0.2599752 , 0.2568272 , 0.2523778 , 0.24959256, 0.24884577,\n",
       "       0.24101172, 0.23023559, 0.19628705, 0.19228125, 0.18590152,\n",
       "       0.1773579 , 0.15507928, 0.15425465, 0.15008171, 0.12450054,\n",
       "       0.12303363, 0.08856194, 0.0842274 , 0.08237574, 0.07894412,\n",
       "       0.06924159, 0.06870757, 0.06518983, 0.06378084, 0.06012341,\n",
       "       0.05424374, 0.04772202, 0.04756668, 0.04741116, 0.04020448,\n",
       "       0.03463819, 0.03315132, 0.0277729 , 0.0220873 , 0.01017821,\n",
       "       0.0072389 , 0.00381333], dtype=float32)"
      ]
     },
     "execution_count": 36,
     "metadata": {},
     "output_type": "execute_result"
    }
   ],
   "source": [
    "thres"
   ]
  },
  {
   "cell_type": "code",
   "execution_count": 37,
   "id": "3b72a041-f335-431d-8514-9ea3d69b4f9f",
   "metadata": {},
   "outputs": [],
   "source": [
    "y_threshold = 1.53886926e-04"
   ]
  },
  {
   "cell_type": "code",
   "execution_count": 38,
   "id": "a87e50ab-855d-47b9-9ecb-aee376dfed08",
   "metadata": {},
   "outputs": [],
   "source": [
    "y_pred_proba=model.predict_proba(x_valid)"
   ]
  },
  {
   "cell_type": "code",
   "execution_count": 39,
   "id": "a6c9d2e1-0e7f-4825-b46d-6396d4bab35a",
   "metadata": {},
   "outputs": [],
   "source": [
    "y_pred_thres = (y_pred_proba[:,1]>=y_threshold).astype(int)"
   ]
  },
  {
   "cell_type": "code",
   "execution_count": 40,
   "id": "8ab7d7c5-ff3b-4c0f-aad4-9e685cb7c2fc",
   "metadata": {},
   "outputs": [
    {
     "data": {
      "text/plain": [
       "array([[549,  50],\n",
       "       [ 86,  59]])"
      ]
     },
     "execution_count": 40,
     "metadata": {},
     "output_type": "execute_result"
    }
   ],
   "source": [
    "C2"
   ]
  },
  {
   "cell_type": "code",
   "execution_count": null,
   "id": "f887ecb9-9eef-46d5-a53b-07707b1e5a69",
   "metadata": {},
   "outputs": [],
   "source": []
  }
 ],
 "metadata": {
  "kernelspec": {
   "display_name": "Python 3 (ipykernel)",
   "language": "python",
   "name": "python3"
  },
  "language_info": {
   "codemirror_mode": {
    "name": "ipython",
    "version": 3
   },
   "file_extension": ".py",
   "mimetype": "text/x-python",
   "name": "python",
   "nbconvert_exporter": "python",
   "pygments_lexer": "ipython3",
   "version": "3.7.15"
  }
 },
 "nbformat": 4,
 "nbformat_minor": 5
}
